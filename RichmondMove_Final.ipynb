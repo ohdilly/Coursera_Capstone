{
    "cells": [
        {
            "cell_type": "markdown",
            "metadata": {
                "collapsed": true
            },
            "source": "An offer of emplyment has been recieved that requires relocation. \n\nIn preperation to reloctate to the Richmond Virginia Metro Statistical Area (RVA), an analysis of the area is to be done.  The purpose of the analysis is to narrow the focus to specific zipcodes that meet selected critera and a price point for housing.  In conducting the search for a house, priority will be given to commuting distance, availability of grocery stores, vetrenarian services, medical services and local population density.  \n\nThe source of zipcode and real estate data willl come from a CSV furnished by realtor.com.\nhttps://move-econresearch-prod.s3-us-west-2.amazonaws.com/listings/core/current_month/RDC_Inventory_Core_Metrics_Zip_Current.csv\n\nThe zipcode designations for the RVA are associated with Richmond, Midlothian, and Chesterfield.  Approximate commuting distance will be calculated from the centerpoint of the zipcode area to the centerpoint of the zipcode associated with the address of the business making the offer.  \n\nAmenities and services data will be obtained using Four Square's City Guide through an API."
        }
    ],
    "metadata": {
        "kernelspec": {
            "display_name": "Python 3.6",
            "language": "python",
            "name": "python3"
        },
        "language_info": {
            "codemirror_mode": {
                "name": "ipython",
                "version": 3
            },
            "file_extension": ".py",
            "mimetype": "text/x-python",
            "name": "python",
            "nbconvert_exporter": "python",
            "pygments_lexer": "ipython3",
            "version": "3.6.8"
        }
    },
    "nbformat": 4,
    "nbformat_minor": 1
}