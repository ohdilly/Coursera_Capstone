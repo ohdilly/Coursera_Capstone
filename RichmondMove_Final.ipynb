{
    "cells": [
        {
            "metadata": {
                "collapsed": true
            },
            "cell_type": "markdown",
            "source": "An offer of employment has been recieved that requires relocation. The offer is a substantial promotion and rise in pay rate.  In accepting the offer, there is now a need to find a new residence in a short period of time.\n\nIn preperation to reloctate to the Richmond Virginia Metro Statistical Area (RVA), an analysis of the area is to be done.  The purpose of the analysis is to narrow the focus to specific zipcodes that meet selected critera and a price point for housing.  In conducting the search for a house, priority will be given to commuting distance, availability of grocery stores, vetrenarian services, medical services and local population density.  \n\nThe source of zipcode and real estate data willl come from a CSV furnished by realtor.com.\nhttps://move-econresearch-prod.s3-us-west-2.amazonaws.com/listings/core/current_month/RDC_Inventory_Core_Metrics_Zip_Current.csv\n\nThe zipcode designations for the RVA are associated with Richmond, Midlothian, and Chesterfield.  Approximate commuting distance will be calculated from the centerpoint of the zipcode area to the centerpoint of the zipcode associated with the address of the business making the offer.  \n\nAmenities and services data will be obtained using Four Square's City Guide through an API. ( https://foursquare.com/city-guide )"
        }
    ],
    "metadata": {
        "kernelspec": {
            "name": "python3",
            "display_name": "Python 3.6",
            "language": "python"
        },
        "language_info": {
            "name": "python",
            "version": "3.6.8",
            "mimetype": "text/x-python",
            "codemirror_mode": {
                "name": "ipython",
                "version": 3
            },
            "pygments_lexer": "ipython3",
            "nbconvert_exporter": "python",
            "file_extension": ".py"
        }
    },
    "nbformat": 4,
    "nbformat_minor": 1
}