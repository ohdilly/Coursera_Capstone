{
    "cells": [
        {
            "cell_type": "markdown",
            "metadata": {},
            "source": ""
        },
        {
            "cell_type": "code",
            "execution_count": 2,
            "metadata": {},
            "outputs": [
                {
                    "name": "stdout",
                    "output_type": "stream",
                    "text": "Solving environment: done\n\n## Package Plan ##\n\n  environment location: /opt/conda/envs/Python36\n\n  added / updated specs: \n    - folium=0.5.0\n\n\nThe following packages will be downloaded:\n\n    package                    |            build\n    ---------------------------|-----------------\n    branca-0.3.1               |             py_0          25 KB  conda-forge\n    openssl-1.1.1d             |       h516909a_0         2.1 MB  conda-forge\n    ca-certificates-2019.11.28 |       hecc5488_0         145 KB  conda-forge\n    altair-4.0.0               |             py_0         606 KB  conda-forge\n    certifi-2019.11.28         |           py36_0         149 KB  conda-forge\n    folium-0.5.0               |             py_0          45 KB  conda-forge\n    vincent-0.4.4              |             py_1          28 KB  conda-forge\n    ------------------------------------------------------------\n                                           Total:         3.1 MB\n\nThe following NEW packages will be INSTALLED:\n\n    altair:          4.0.0-py_0        conda-forge\n    branca:          0.3.1-py_0        conda-forge\n    folium:          0.5.0-py_0        conda-forge\n    vincent:         0.4.4-py_1        conda-forge\n\nThe following packages will be UPDATED:\n\n    ca-certificates: 2019.11.27-0                  --> 2019.11.28-hecc5488_0 conda-forge\n    certifi:         2019.11.28-py36_0             --> 2019.11.28-py36_0     conda-forge\n\nThe following packages will be DOWNGRADED:\n\n    openssl:         1.1.1d-h7b6447c_3             --> 1.1.1d-h516909a_0     conda-forge\n\n\nDownloading and Extracting Packages\nbranca-0.3.1         | 25 KB     | ##################################### | 100% \nopenssl-1.1.1d       | 2.1 MB    | ##################################### | 100% \nca-certificates-2019 | 145 KB    | ##################################### | 100% \naltair-4.0.0         | 606 KB    | ##################################### | 100% \ncertifi-2019.11.28   | 149 KB    | ##################################### | 100% \nfolium-0.5.0         | 45 KB     | ##################################### | 100% \nvincent-0.4.4        | 28 KB     | ##################################### | 100% \nPreparing transaction: done\nVerifying transaction: done\nExecuting transaction: done\n"
                }
            ],
            "source": "##!conda install -c anaconda beautifulsoup4 -y\n##!conda install -c anaconda lxml -y\n##!conda install -c anaconda requests -y\n##!conda config --add channels conda-forge\n##!conda install -c conda-forge geopy --yes\n!conda install -c conda-forge folium=0.5.0 --yes\n##  imports and functions\nfrom bs4 import BeautifulSoup\nimport requests\nimport lxml\nimport csv\nimport pandas as pd\nimport numpy as np\nfrom geopy.geocoders import Nominatim # module to convert an address into latitude and longitude values\n# libraries for displaying images\nfrom IPython.display import Image \nfrom IPython.core.display import HTML     \n# tranforming json file into a pandas dataframe library\nfrom pandas.io.json import json_normalize\nimport folium # plotting library\n# Matplotlib and associated plotting modules\nimport matplotlib.cm as cm\nimport matplotlib.colors as colors\n\n# import k-means from clustering stage\nfrom sklearn.cluster import KMeans\n\ndef return_most_common_venues(row, num_top_venues):\n    row_categories = row.iloc[1:]\n    row_categories_sorted = row_categories.sort_values(ascending=False)\n    \n    return row_categories_sorted.index.values[0:num_top_venues]"
        },
        {
            "cell_type": "code",
            "execution_count": 11,
            "metadata": {},
            "outputs": [
                {
                    "name": "stdout",
                    "output_type": "stream",
                    "text": "The geograpical coordinate of 23219 are 37.5526543224809, -77.4190236382692.\n"
                }
            ],
            "source": "##Use geopy library to get the latitude and longitude values of Toronto\naddress = 'Richmond,VA'\nzipcode = 23219\ngeolocator = Nominatim(user_agent=\"my-application\")\nlocation = geolocator.geocode({\"postalcode\": zipcode})\nlatitude = location.latitude\nlongitude = location.longitude\nprint('The geograpical coordinate of {} are {}, {}.'.format(zipcode, latitude, longitude))"
        },
        {
            "cell_type": "code",
            "execution_count": 14,
            "metadata": {},
            "outputs": [
                {
                    "name": "stdout",
                    "output_type": "stream",
                    "text": "The geograpical coordinate of 23228 are 37.6351851, -77.4643429774738.\n"
                }
            ],
            "source": "zipcode = 23228\ngeolocator = Nominatim(user_agent=\"my-application\")\nlocation = geolocator.geocode({\"postalcode\": zipcode})\nlatitude = location.latitude\nlongitude = location.longitude\nprint('The geograpical coordinate of {} are {}, {}.'.format(zipcode, latitude, longitude))"
        },
        {
            "cell_type": "code",
            "execution_count": null,
            "metadata": {},
            "outputs": [],
            "source": ""
        }
    ],
    "metadata": {
        "kernelspec": {
            "display_name": "Python 3.6",
            "language": "python",
            "name": "python3"
        },
        "language_info": {
            "codemirror_mode": {
                "name": "ipython",
                "version": 3
            },
            "file_extension": ".py",
            "mimetype": "text/x-python",
            "name": "python",
            "nbconvert_exporter": "python",
            "pygments_lexer": "ipython3",
            "version": "3.6.8"
        }
    },
    "nbformat": 4,
    "nbformat_minor": 1
}